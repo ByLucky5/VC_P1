{
 "cells": [
  {
   "cell_type": "markdown",
   "metadata": {},
   "source": [
    "Paquetes necesarios"
   ]
  },
  {
   "cell_type": "code",
   "execution_count": 1,
   "metadata": {},
   "outputs": [],
   "source": [
    "import cv2  \n",
    "import numpy as np\n",
    "import matplotlib.pyplot as plt"
   ]
  },
  {
   "cell_type": "markdown",
   "metadata": {},
   "source": [
    "Inicializaciones"
   ]
  },
  {
   "cell_type": "code",
   "execution_count": 2,
   "metadata": {},
   "outputs": [],
   "source": [
    "#Dimensiones de la imagen a crear\n",
    "alto, ancho = 800, 800"
   ]
  },
  {
   "cell_type": "markdown",
   "metadata": {},
   "source": [
    "TAREA: Crea una imagen, p.e. de 800x800 píxeles, con la textura del tablero de ajedrez"
   ]
  },
  {
   "cell_type": "code",
   "execution_count": 3,
   "metadata": {},
   "outputs": [
    {
     "data": {
      "image/png": "[encoded data removed]",
      "text/plain": [
       "<Figure size 640x480 with 1 Axes>"
      ]
     },
     "metadata": {},
     "output_type": "display_data"
    },
    {
     "data": {
      "text/plain": [
       "True"
      ]
     },
     "execution_count": 3,
     "metadata": {},
     "output_type": "execute_result"
    }
   ],
   "source": [
    "color_img = np.zeros((alto, ancho, 3), dtype = np.uint8) # Imagen en color negro\n",
    "step = int(alto / 8)\n",
    "\n",
    "for i in range(0, alto, step):\n",
    "    for j in range(0, ancho, step):\n",
    "        # Dibuja casillas blancas, donde la suma de los indices resulte un número par\n",
    "        if (i + j) % (2*step) == 0:\n",
    "            cv2.rectangle(color_img, (j, i), (j + step, i + step), (255, 255, 255), -1)\n",
    "\n",
    "#Visualiza sin especificar el mapa de color gris\n",
    "plt.imshow(color_img) \n",
    "plt.show()\n",
    "\n",
    "#Salva la imagen resultante a disco\n",
    "cv2.imwrite('ajedrez.jpg', color_img)"
   ]
  },
  {
   "cell_type": "markdown",
   "metadata": {},
   "source": [
    "TAREA: Crear una imagen estilo Mondrian (un ejemplo https://www3.gobiernodecanarias.org/medusa/ecoescuela/sa/2017/04/17/descubriendo-a-mondrian/ ) con las funciones de dibujo de OpenCV"
   ]
  },
  {
   "cell_type": "code",
   "execution_count": 4,
   "metadata": {},
   "outputs": [
    {
     "data": {
      "image/png": "[encoded data removed]",
      "text/plain": [
       "<Figure size 640x480 with 1 Axes>"
      ]
     },
     "metadata": {},
     "output_type": "display_data"
    },
    {
     "data": {
      "text/plain": [
       "True"
      ]
     },
     "execution_count": 4,
     "metadata": {},
     "output_type": "execute_result"
    }
   ],
   "source": [
    "mondrian_img = np.zeros((alto, ancho, 3), dtype=np.uint8) # Imagen en color negro\n",
    "\n",
    "# Dibujar rectángulos de colores\n",
    "cv2.rectangle(mondrian_img, (0, 0), (300, 300), (0, 0, 255), -1)     # Rojo\n",
    "cv2.rectangle(mondrian_img, (320, 0), (800, 200), (0, 255, 255), -1) # Amarillo\n",
    "cv2.rectangle(mondrian_img, (0, 320), (250, 800), (255, 0, 0), -1)   # Azul\n",
    "cv2.rectangle(mondrian_img, (270, 220), (600, 600), (255, 255, 255), -1) # Blanco\n",
    "cv2.rectangle(mondrian_img, (620, 220), (800, 600), (0, 0, 0), -1)   # Negro\n",
    "cv2.rectangle(mondrian_img, (270, 620), (800, 800), (0, 255, 255), -1) # Amarillo\n",
    "\n",
    "# Añadir líneas negras gruesas encima\n",
    "cv2.line(mondrian_img, (310, 0), (310, 800), (0, 0, 0), 20)   # vertical\n",
    "cv2.line(mondrian_img, (260, 0), (260, 800), (0, 0, 0), 20)   # vertical\n",
    "cv2.line(mondrian_img, (0, 310), (800, 310), (0, 0, 0), 20)   # horizontal\n",
    "cv2.line(mondrian_img, (0, 610), (800, 610), (0, 0, 0), 20)   # horizontal\n",
    "cv2.line(mondrian_img, (610, 210), (610, 800), (0, 0, 0), 20) # vertical\n",
    "cv2.line(mondrian_img, (0, 210), (800, 210), (0, 0, 0), 20)   # horizontal\n",
    "\n",
    "# Mostrar la imagen\n",
    "plt.imshow(cv2.cvtColor(mondrian_img, cv2.COLOR_BGR2RGB))\n",
    "plt.axis(\"off\")\n",
    "plt.show()\n",
    "\n",
    "# Guardar la imagen resultante\n",
    "cv2.imwrite(\"mondrian.jpg\", mondrian_img)\n"
   ]
  },
  {
   "cell_type": "markdown",
   "metadata": {},
   "source": [
    "TAREA: Modifica de forma libre los valores de un plano de la imagen"
   ]
  },
  {
   "cell_type": "code",
   "execution_count": 5,
   "metadata": {},
   "outputs": [
    {
     "name": "stderr",
     "output_type": "stream",
     "text": [
      "qt.qpa.plugin: Could not find the Qt platform plugin \"wayland\" in \"/home/uni/miniconda3/envs/VC_P1/lib/python3.11/site-packages/cv2/qt/plugins\"\n"
     ]
    }
   ],
   "source": [
    "vid = cv2.VideoCapture(0)\n",
    "  \n",
    "while(True):      \n",
    "    # fotograma a fotograma\n",
    "    ret, frame = vid.read()\n",
    "\n",
    "    if ret:\n",
    "        # Copiamos el frame original\n",
    "        frame_mod = frame.copy()\n",
    "        \n",
    "        # Invertimos el plano azul\n",
    "        frame_mod[:,:,0] = 255 - frame_mod[:,:,0]\n",
    "        \n",
    "        # Mostramos la imagen\n",
    "        cv2.imshow('RGB con azul invertido', frame_mod)\n",
    "    \n",
    "    # Detenemos pulsado ESC\n",
    "    if cv2.waitKey(20) == 27:\n",
    "        break\n",
    "  \n",
    "# Libera el objeto de captura\n",
    "vid.release()\n",
    "# Destruye ventanas\n",
    "cv2.destroyAllWindows()"
   ]
  },
  {
   "cell_type": "markdown",
   "metadata": {},
   "source": [
    "TAREA:\n",
    "Pintar círculos en las posiciones del píxel más claro y oscuro de la imagen "
   ]
  },
  {
   "cell_type": "code",
   "execution_count": 6,
   "metadata": {},
   "outputs": [],
   "source": [
    "vid = cv2.VideoCapture(0)\n",
    "\n",
    "while True:\n",
    "    ret, frame = vid.read()\n",
    "    if ret:\n",
    "        # Escala de grises\n",
    "        gray = cv2.cvtColor(frame, cv2.COLOR_BGR2GRAY)\n",
    "        \n",
    "        # Posiciones de mínimo y máximo\n",
    "        minVal, maxVal, minLoc, maxLoc = cv2.minMaxLoc(gray)\n",
    "        \n",
    "        # Dibujar círculo en el píxel más oscuro (minLoc) y más claro (maxLoc)\n",
    "        cv2.circle(frame, minLoc, 8, (255, 255, 255), 2)\n",
    "        cv2.circle(frame, maxLoc, 8, (0, 0, 0), 2)\n",
    "        \n",
    "        cv2.imshow(\"Vid\", frame)\n",
    "    \n",
    "    if cv2.waitKey(20) == 27:  # ESC para salir\n",
    "        break\n",
    "\n",
    "vid.release()\n",
    "cv2.destroyAllWindows()"
   ]
  },
  {
   "cell_type": "markdown",
   "metadata": {},
   "source": [
    "¿Si quisieras hacerlo sobre la zona 8x8 más clara/oscura?"
   ]
  },
  {
   "cell_type": "code",
   "execution_count": 7,
   "metadata": {},
   "outputs": [],
   "source": [
    "vid = cv2.VideoCapture(0)\n",
    "\n",
    "while True:\n",
    "    ret, frame = vid.read()\n",
    "    if ret:\n",
    "        # Escala de grises\n",
    "        gray = cv2.cvtColor(frame, cv2.COLOR_BGR2GRAY)\n",
    "        h, w = gray.shape\n",
    "        \n",
    "        block_size = 8\n",
    "        min_mean, max_mean = 255, 0\n",
    "        min_pos, max_pos = (0,0), (0,0)\n",
    "        \n",
    "        # Recorremos la imagen en bloques de 8x8\n",
    "        for y in range(0, h-block_size, block_size):\n",
    "            for x in range(0, w-block_size, block_size):\n",
    "                block = gray[y:y+block_size, x:x+block_size]\n",
    "                mean_val = np.mean(block) # Calculamos el valor medio del bloque\n",
    "                \n",
    "                if mean_val < min_mean: # Si el valor medio es menor que el mínimo registrado, lo actualizamos \n",
    "                    min_mean = mean_val\n",
    "                    min_pos = (x, y)\n",
    "                if mean_val > max_mean: # Si el valor medio es mayor que el máximo registrado, lo actualizamos \n",
    "                    max_mean = mean_val\n",
    "                    max_pos = (x, y)\n",
    "        \n",
    "       # Calculamos el centro de cada bloque\n",
    "        min_center = (min_pos[0] + block_size//2, min_pos[1] + block_size//2)\n",
    "        max_center = (max_pos[0] + block_size//2, max_pos[1] + block_size//2)\n",
    "\n",
    "        cv2.circle(frame, min_center, block_size//2, (255, 255, 255), 2)       # círculo blanco = bloque más oscuro\n",
    "        cv2.circle(frame, max_center, block_size//2, (0, 0, 0), 2) # círculo negro = bloque más claro\n",
    "        \n",
    "        cv2.imshow(\"Vid\", frame)\n",
    "    \n",
    "    if cv2.waitKey(20) == 27:\n",
    "        break\n",
    "\n",
    "vid.release()\n",
    "cv2.destroyAllWindows()\n"
   ]
  },
  {
   "cell_type": "markdown",
   "metadata": {},
   "source": [
    "TAREA: Llevar a cabo una propuesta propia de pop art"
   ]
  },
  {
   "cell_type": "code",
   "execution_count": 8,
   "metadata": {},
   "outputs": [],
   "source": [
    "# Filtro líneas\n",
    "vid = cv2.VideoCapture(0)\n",
    "\n",
    "# Número de celdas\n",
    "ncells = 10\n",
    "off = int(ncells/2)\n",
    "\n",
    "while True:      \n",
    "    ret, frame = vid.read()\n",
    "    if ret:\n",
    "        h, w, c = frame.shape\n",
    "        # Redimensionamos\n",
    "        down_frame = cv2.resize(frame, (int(w/ncells), int(h/ncells)), cv2.INTER_NEAREST)\n",
    "        h2, w2, c2 = down_frame.shape\n",
    "\n",
    "        # Separamos canales\n",
    "        r = down_frame[:,:,0]\n",
    "        g = down_frame[:,:,1]\n",
    "        b = down_frame[:,:,2]\n",
    "\n",
    "        # Creamos imagen negra\n",
    "        gris_up_frame = np.zeros((h2*ncells, w2*ncells, 1), dtype=np.uint8)\n",
    "\n",
    "        # Recorrer valores de la imagen reducida\n",
    "        for y in range(h2):\n",
    "            for x in range(w2):\n",
    "                # Intensidad promedio RGB\n",
    "                intensity = (int(r[y,x]) + int(g[y,x]) + int(b[y,x])) / 3\n",
    "                # Altura de la línea según intensidad\n",
    "                line_height = int((intensity / 255) * ncells)\n",
    "                # Dibujamos rectángulo horizontal centrado\n",
    "                y_start = y * ncells + (ncells - line_height)//2\n",
    "                y_end = y_start + line_height\n",
    "                cv2.rectangle(gris_up_frame, (x*ncells, y_start), ((x+1)*ncells, y_end), (255,255,255), -1)\n",
    "\n",
    "        cv2.imshow(\"Vid\", gris_up_frame)\n",
    "\n",
    "    # ESC para salir\n",
    "    if cv2.waitKey(20) == 27:\n",
    "        break\n",
    "\n",
    "vid.release()\n",
    "cv2.destroyAllWindows()\n"
   ]
  }
 ],
 "metadata": {
  "kernelspec": {
   "display_name": "VC_P1",
   "language": "python",
   "name": "python3"
  },
  "language_info": {
   "codemirror_mode": {
    "name": "ipython",
    "version": 3
   },
   "file_extension": ".py",
   "mimetype": "text/x-python",
   "name": "python",
   "nbconvert_exporter": "python",
   "pygments_lexer": "ipython3",
   "version": "3.11.5"
  },
  "orig_nbformat": 4
 },
 "nbformat": 4,
 "nbformat_minor": 2
}
